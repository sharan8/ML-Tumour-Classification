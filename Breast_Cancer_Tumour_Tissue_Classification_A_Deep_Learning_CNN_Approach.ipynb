{
  "nbformat": 4,
  "nbformat_minor": 0,
  "metadata": {
    "colab": {
      "name": "Breast Cancer Tumour Tissue Classification: A Deep Learning CNN Approach.ipynb",
      "provenance": [],
      "collapsed_sections": [],
      "machine_shape": "hm",
      "include_colab_link": true
    },
    "kernelspec": {
      "name": "python3",
      "display_name": "Python 3"
    },
    "accelerator": "GPU"
  },
  "cells": [
    {
      "cell_type": "markdown",
      "metadata": {
        "id": "view-in-github",
        "colab_type": "text"
      },
      "source": [
        "<a href=\"https://colab.research.google.com/github/sharan8/ML-Tumour-Classification/blob/master/Breast_Cancer_Tumour_Tissue_Classification_A_Deep_Learning_CNN_Approach.ipynb\" target=\"_parent\"><img src=\"https://colab.research.google.com/assets/colab-badge.svg\" alt=\"Open In Colab\"/></a>"
      ]
    },
    {
      "cell_type": "markdown",
      "metadata": {
        "id": "-CKVX5YA7dmW",
        "colab_type": "text"
      },
      "source": [
        "# Connect to google drive"
      ]
    },
    {
      "cell_type": "code",
      "metadata": {
        "id": "gQEuutJ57p6_",
        "colab_type": "code",
        "outputId": "1107e16c-4e2e-4096-b913-e301c1c7c43a",
        "colab": {
          "base_uri": "https://localhost:8080/",
          "height": 34
        }
      },
      "source": [
        "# connecting to google drive\n",
        "from google.colab import drive \n",
        "drive.mount('/mntDrive') "
      ],
      "execution_count": 0,
      "outputs": [
        {
          "output_type": "stream",
          "text": [
            "Drive already mounted at /mntDrive; to attempt to forcibly remount, call drive.mount(\"/mntDrive\", force_remount=True).\n"
          ],
          "name": "stdout"
        }
      ]
    },
    {
      "cell_type": "markdown",
      "metadata": {
        "id": "zrRjbAWF7uP1",
        "colab_type": "text"
      },
      "source": [
        "# Import all the required Python libraries"
      ]
    },
    {
      "cell_type": "code",
      "metadata": {
        "id": "ubDYknfba8oE",
        "colab_type": "code",
        "outputId": "2d3d6030-da73-4644-c15f-7ce67a8f74a8",
        "colab": {
          "base_uri": "https://localhost:8080/",
          "height": 81
        }
      },
      "source": [
        "# to keep track of time taken\n",
        "import time\n",
        "\n",
        "# for naming files with time stamp\n",
        "import datetime\n",
        "\n",
        "# for collecting the data from google drive\n",
        "import os\n",
        "import threading\n",
        "import queue\n",
        "\n",
        "# for preprocessing the data\n",
        "from keras.preprocessing.image import ImageDataGenerator\n",
        "from keras.callbacks import Callback, ModelCheckpoint\n",
        "from keras.callbacks import ReduceLROnPlateau, TensorBoard\n",
        "from keras.utils.np_utils import to_categorical\n",
        "import keras.preprocessing.image as image\n",
        "import numpy as np\n",
        "import random\n",
        "\n",
        "# import statements for building models\n",
        "from keras import layers\n",
        "from keras import models\n",
        "from keras import optimizers\n",
        "from keras.applications import VGG16\n",
        "from keras.models import load_model\n",
        "\n",
        "# for visualising the results\n",
        "import matplotlib.pyplot as plt\n",
        "import json\n",
        "from sklearn.metrics import classification_report\n",
        "from sklearn.metrics import confusion_matrix\n",
        "\n",
        "# garbage collector\n",
        "import gc"
      ],
      "execution_count": 0,
      "outputs": [
        {
          "output_type": "stream",
          "text": [
            "Using TensorFlow backend.\n"
          ],
          "name": "stderr"
        },
        {
          "output_type": "display_data",
          "data": {
            "text/html": [
              "<p style=\"color: red;\">\n",
              "The default version of TensorFlow in Colab will soon switch to TensorFlow 2.x.<br>\n",
              "We recommend you <a href=\"https://www.tensorflow.org/guide/migrate\" target=\"_blank\">upgrade</a> now \n",
              "or ensure your notebook will continue to use TensorFlow 1.x via the <code>%tensorflow_version 1.x</code> magic:\n",
              "<a href=\"https://colab.research.google.com/notebooks/tensorflow_version.ipynb\" target=\"_blank\">more info</a>.</p>\n"
            ],
            "text/plain": [
              "<IPython.core.display.HTML object>"
            ]
          },
          "metadata": {
            "tags": []
          }
        }
      ]
    },
    {
      "cell_type": "markdown",
      "metadata": {
        "id": "zYl0N5betLKw",
        "colab_type": "text"
      },
      "source": [
        "# All the constant values are placed here"
      ]
    },
    {
      "cell_type": "code",
      "metadata": {
        "id": "y-OoPVLKckye",
        "colab_type": "code",
        "outputId": "23d8184d-9188-459c-e57a-486bfe170718",
        "colab": {
          "base_uri": "https://localhost:8080/",
          "height": 34
        }
      },
      "source": [
        "# timestamp meant for the file formatting\n",
        "def get_file_timestamp():\n",
        "  \"\"\"Returns string of the format YYMMDD_HHMM\n",
        "  \"\"\"\n",
        "  now = datetime.datetime.now()\n",
        "  time_stamp = \"{:02}{:02}{:02}_{:02}{:02}{:02}\".format(\n",
        "      now.year, now.month, now.day, now.hour, now.minute, now.second)\n",
        "  return time_stamp\n",
        "time_stamp = get_file_timestamp()\n",
        "print(\"time_stamp = {}\".format(time_stamp))\n"
      ],
      "execution_count": 0,
      "outputs": [
        {
          "output_type": "stream",
          "text": [
            "time_stamp = 20191114_000328\n"
          ],
          "name": "stdout"
        }
      ]
    },
    {
      "cell_type": "code",
      "metadata": {
        "colab_type": "code",
        "id": "07qxD4Quky0i",
        "colab": {}
      },
      "source": [
        "# constants\n",
        "TRAIN_BATCH_SIZE = 8\n",
        "VALIDATION_BATCH_SIZE = 8\n",
        "TEST_BATCH_SIZE = 8\n",
        "TARGET_HEIGHT = 300\n",
        "TARGET_WIDTH = 300\n",
        "TRAIN_EPOCHS = 30\n",
        "IS_MALIGNANT_AND_BENIGN_SAME_SIZE = True\n",
        "\n",
        "FREEZE_LAYER = \"block5_conv1\"\n",
        "\n",
        "BENIGN_DIR = '/mntDrive/My Drive/ML Project/CompleteDataset/breast/benign/SOB'\n",
        "MALIGNANT_DIR= ('/mntDrive/My Drive/ML Project/CompleteDataset/breast/'\n",
        "                'malignant/SOB')\n",
        "HISTORY_DIR = '/mntDrive/My Drive/ML Project/final_code/saved/' + time_stamp\n",
        "LOAD_WEIGHT_FROM_DIRECTORY = True"
      ],
      "execution_count": 0,
      "outputs": []
    },
    {
      "cell_type": "code",
      "metadata": {
        "id": "JvtX2etagYqQ",
        "colab_type": "code",
        "colab": {}
      },
      "source": [
        "# create history directory\n",
        "if not os.path.exists(HISTORY_DIR):\n",
        "    os.makedirs(HISTORY_DIR)"
      ],
      "execution_count": 0,
      "outputs": []
    },
    {
      "cell_type": "markdown",
      "metadata": {
        "id": "cIs2MykUlC5L",
        "colab_type": "text"
      },
      "source": [
        "# Garbage collector"
      ]
    },
    {
      "cell_type": "code",
      "metadata": {
        "id": "ZttJMWw3lEn3",
        "colab_type": "code",
        "colab": {}
      },
      "source": [
        "gc.enable()"
      ],
      "execution_count": 0,
      "outputs": []
    },
    {
      "cell_type": "markdown",
      "metadata": {
        "id": "s91vOJWjtT0E",
        "colab_type": "text"
      },
      "source": [
        "Timer class for measuring time taken for different parts of the code"
      ]
    },
    {
      "cell_type": "code",
      "metadata": {
        "id": "GwZdJMBXsA8x",
        "colab_type": "code",
        "colab": {}
      },
      "source": [
        "class my_timer:\n",
        "  def __init__(self):\n",
        "    self.start_time = time.time()\n",
        "  def elapsed(self):\n",
        "    time_elapsed = time.time() - self.start_time\n",
        "    minute = int(time_elapsed / 60)\n",
        "    second = int(time_elapsed % 60)\n",
        "    duration_str = \"{} minutes {} seconds\".format(minute, second)\n",
        "    return duration_str\n",
        "timer = my_timer()"
      ],
      "execution_count": 0,
      "outputs": []
    },
    {
      "cell_type": "markdown",
      "metadata": {
        "id": "BJSIdcLgtwzB",
        "colab_type": "text"
      },
      "source": [
        "# Functions for collecting image paths"
      ]
    },
    {
      "cell_type": "code",
      "metadata": {
        "id": "KEHHTwupt-Rd",
        "colab_type": "code",
        "colab": {}
      },
      "source": [
        "# get all paths within a directory\n",
        "def get_image_path_list_from_dir(dir):\n",
        "  \"\"\" Takes a directory, returns all image path from this directory\n",
        "  # Arguments\n",
        "    dir: string, path to the source directory that  contains the image. Only\n",
        "      members of this dir that has '.png' extension would be considered. Does \n",
        "      not handle images that are nested within another directory within dir.\n",
        "\n",
        "  # Returns\n",
        "    A list containing the image paths\n",
        "  \"\"\"\n",
        "  # a list of image's names, excluding those that does not contain '.png'\n",
        "  image_filenames = [fname for fname in os.listdir(dir) if '.png' == fname[-4:]]\n",
        "\n",
        "  # a list of the full image path\n",
        "  image_paths = [os.path.join(dir, fname) for fname in image_filenames]\n",
        "\n",
        "  return image_paths"
      ],
      "execution_count": 0,
      "outputs": []
    },
    {
      "cell_type": "code",
      "metadata": {
        "id": "5G11QVCOulTz",
        "colab_type": "code",
        "colab": {}
      },
      "source": [
        "# get the paths to all the directories within one directory\n",
        "def get_paths_to_nested_dir(dir):\n",
        "  \"\"\" Takes a directory name, returns the path to directories within\n",
        "\n",
        "    dir: string, path to the source directory that contains directories\n",
        "\n",
        "  # Returns\n",
        "    list of string for the paths of nest directories\n",
        "  \"\"\"\n",
        "  inner_dir_paths = []\n",
        "  for inner_dir in os.listdir(dir):\n",
        "    full_path = os.path.join(dir, inner_dir)\n",
        "    if os.path.isdir(full_path):\n",
        "      inner_dir_paths.append(full_path)\n",
        "\n",
        "  return inner_dir_paths"
      ],
      "execution_count": 0,
      "outputs": []
    },
    {
      "cell_type": "code",
      "metadata": {
        "id": "SiJ1QMGnuUso",
        "colab_type": "code",
        "colab": {}
      },
      "source": [
        "# get all the image paths for one person\n",
        "def get_image_path_list_for_person(dir, mag = [40, 100, 200, 400]):\n",
        "  \"\"\" Takes directory path for a person, return images from this directory\n",
        "  # Arguments\n",
        "    dir: the main directory path representing one patient \n",
        "    mag: a list of magnification to obtain the image\n",
        "\n",
        "  # Returns\n",
        "    A list containing the images path\n",
        "  \"\"\"\n",
        "  mag_paths = get_magnification_path_list(dir, mag)\n",
        "  image_paths = []\n",
        "  for mag_path in mag_paths:\n",
        "    curr_image_paths = get_image_path_list_from_dir(mag_path)\n",
        "    image_paths = image_paths + curr_image_paths\n",
        "  return image_paths"
      ],
      "execution_count": 0,
      "outputs": []
    },
    {
      "cell_type": "code",
      "metadata": {
        "id": "26bQexqSusqP",
        "colab_type": "code",
        "colab": {}
      },
      "source": [
        "# get the path to all the directories that name comform to the \n",
        "# magnification specified by 'mag' array\n",
        "def get_magnification_path_list(dir, mag = [40, 100, 200, 400]):\n",
        "  \"\"\" Takes a directory name, returns the path for the different magnifications\n",
        "  # Arguments\n",
        "    dir: string, path to the source directory that have different magnification\n",
        "      directories.\n",
        "\n",
        "    mag: list of integers. Valid integers are 40, 100, 200 and 400\n",
        "\n",
        "  # Returns\n",
        "    list of string for the paths for the magnification directories\n",
        "  \"\"\"\n",
        "  magnification_paths = []\n",
        "  for fname in os.listdir(dir):\n",
        "    mag_strs = ['40', '100', '200', '400']\n",
        "    if fname[:-1] in mag_strs:\n",
        "      path = os.path.join(dir, fname)\n",
        "      magnification_paths.append(path)\n",
        "\n",
        "  return magnification_paths"
      ],
      "execution_count": 0,
      "outputs": []
    },
    {
      "cell_type": "code",
      "metadata": {
        "id": "xAqO5jdlvklA",
        "colab_type": "code",
        "colab": {}
      },
      "source": [
        "# get the all the paths within a malignanct (benign vs malignant) directory\n",
        "def get_image_path_by_person_from_malignancy_dir(dir, mag = [40, 100, 200, 400]):\n",
        "  \"\"\" Takes directory path that represents malignancy (benign / malignant) and\n",
        "   return the images from this directory\n",
        "  # Arguments\n",
        "    dir: the main directory path representing one patient \n",
        "    mag: a list of magnification to obtain the image\n",
        "\n",
        "  # Returns\n",
        "    A list of list of image paths\n",
        "  \"\"\"\n",
        "  tumour_type_paths = get_paths_to_nested_dir(dir)\n",
        "  person_paths = []\n",
        "\n",
        "  for tumour_type_path in tumour_type_paths:\n",
        "    curr_person_paths = get_paths_to_nested_dir(tumour_type_path)\n",
        "    person_paths = person_paths + curr_person_paths\n",
        "  \n",
        "  image_paths = []\n",
        "  person_count = 0\n",
        "  for person_path in person_paths:\n",
        "    curr_image_paths = get_image_path_list_for_person(person_path, mag)\n",
        "    image_paths.append(curr_image_paths)\n",
        "    person_count += 1\n",
        "\n",
        "  return image_paths"
      ],
      "execution_count": 0,
      "outputs": []
    },
    {
      "cell_type": "markdown",
      "metadata": {
        "id": "e2boxG_8u118",
        "colab_type": "text"
      },
      "source": [
        "# Functions for collecting the images base on path"
      ]
    },
    {
      "cell_type": "code",
      "metadata": {
        "id": "K-X7igkyu1OP",
        "colab_type": "code",
        "colab": {}
      },
      "source": [
        "# Given an image path, returns a rank3 numpy representing the image\n",
        "def read_image(image_path, target_height, target_width):\n",
        "  img = image.load_img(image_path, target_size=(target_height, target_width))\n",
        "  img_array = image.img_to_array(img)\n",
        "  return img_array"
      ],
      "execution_count": 0,
      "outputs": []
    },
    {
      "cell_type": "code",
      "metadata": {
        "id": "wOfcb6mqvDXG",
        "colab_type": "code",
        "colab": {}
      },
      "source": [
        "# given a list of image path, put an array of rank 3 numpy representing the\n",
        "# image inside the imgs_syn_queue (a thread safe queue)\n",
        "def multithread_images_from_image_paths(image_paths, imgs_syn_queue,\n",
        "                                        target_height=225, target_width=225):\n",
        "  inner_timer = my_timer()\n",
        "\n",
        "  imgs = [] # store a list of image represented as numpy array\n",
        "\n",
        "  for image_path in image_paths:\n",
        "    img_array = read_image(image_path, target_height, target_width)\n",
        "    imgs.append(img_array)\n",
        "\n",
        "  imgs_syn_queue.put(imgs)\n",
        "  # print('time taken to collect {} images = {}\\n'.\n",
        "  #       format(len(imgs), inner_timer.elapsed()), end='')"
      ],
      "execution_count": 0,
      "outputs": []
    },
    {
      "cell_type": "code",
      "metadata": {
        "id": "rXFQYYx9vQlf",
        "colab_type": "code",
        "colab": {}
      },
      "source": [
        "# given a list of list of image paths, returns a list of list of \n",
        "# rank 3 numpy representing the images\n",
        "def multithread_images_by_person_from_paths(list_of_image_paths,\n",
        "                                          target_height=225, target_width=225):\n",
        "  # a synchronised queue where each member is a list of images (in DIL format)\n",
        "  images_queue = queue.Queue()\n",
        "  threads = []\n",
        "  \n",
        "  for image_paths in list_of_image_paths:\n",
        "    # commented out the non multithreaded approach\n",
        "    # multithread_images_from_image_paths(image_paths, images_queue,\n",
        "    #                                     target_height, target_width)\n",
        "    thread = threading.Thread(target=multithread_images_from_image_paths,\n",
        "                              args=(image_paths, images_queue,\n",
        "                                    target_height, target_width))\n",
        "    thread.start()\n",
        "    threads.append(thread)\n",
        "\n",
        "  for i in range(len(threads)):\n",
        "    threads[i].join()\n",
        "\n",
        "  images_by_person = []\n",
        "  while not images_queue.empty():\n",
        "    images_by_person.append(images_queue.get())\n",
        "\n",
        "  return images_by_person"
      ],
      "execution_count": 0,
      "outputs": []
    },
    {
      "cell_type": "markdown",
      "metadata": {
        "id": "lnWJdeVZw7gz",
        "colab_type": "text"
      },
      "source": [
        "# Collect the images"
      ]
    },
    {
      "cell_type": "markdown",
      "metadata": {
        "id": "QTc-5D_hxA-c",
        "colab_type": "text"
      },
      "source": [
        "Collect the image paths"
      ]
    },
    {
      "cell_type": "code",
      "metadata": {
        "id": "gdRD3turxMPQ",
        "colab_type": "code",
        "outputId": "93890f30-4d14-4088-f9a6-8c297cb4b686",
        "colab": {
          "base_uri": "https://localhost:8080/",
          "height": 52
        }
      },
      "source": [
        "benign_paths = get_image_path_by_person_from_malignancy_dir(BENIGN_DIR)\n",
        "print(\"time after collecting benign_paths =\", timer.elapsed())\n",
        "malignant_paths = get_image_path_by_person_from_malignancy_dir(MALIGNANT_DIR)\n",
        "print(\"time after collecting malignant_paths =\", timer.elapsed())"
      ],
      "execution_count": 0,
      "outputs": [
        {
          "output_type": "stream",
          "text": [
            "time after collecting benign_paths = 0 minutes 0 seconds\n",
            "time after collecting malignant_paths = 0 minutes 0 seconds\n"
          ],
          "name": "stdout"
        }
      ]
    },
    {
      "cell_type": "markdown",
      "metadata": {
        "id": "pUckGGQXxEzx",
        "colab_type": "text"
      },
      "source": [
        "Collect the actual images"
      ]
    },
    {
      "cell_type": "code",
      "metadata": {
        "id": "dr-XROWm-tVB",
        "colab_type": "code",
        "outputId": "201d46fa-f7c0-4480-8b8f-123a897f7a58",
        "colab": {
          "base_uri": "https://localhost:8080/",
          "height": 52
        }
      },
      "source": [
        "benign_images = multithread_images_by_person_from_paths(benign_paths,\n",
        "                                                        TARGET_HEIGHT,\n",
        "                                                        TARGET_WIDTH)\n",
        "print(\"time after collecting benign_images\", timer.elapsed())\n",
        "malignant_images = multithread_images_by_person_from_paths(malignant_paths,\n",
        "                                                          TARGET_HEIGHT,\n",
        "                                                          TARGET_WIDTH)\n",
        "print(\"time after collecting malignant_images\", timer.elapsed())"
      ],
      "execution_count": 0,
      "outputs": [
        {
          "output_type": "stream",
          "text": [
            "time after collecting benign_images 0 minutes 20 seconds\n",
            "time after collecting malignant_images 1 minutes 1 seconds\n"
          ],
          "name": "stdout"
        }
      ]
    },
    {
      "cell_type": "markdown",
      "metadata": {
        "id": "G2fFHuFwyEHm",
        "colab_type": "text"
      },
      "source": [
        "# Prepare the dataset"
      ]
    },
    {
      "cell_type": "markdown",
      "metadata": {
        "id": "ivlBNopwyHFJ",
        "colab_type": "text"
      },
      "source": [
        "Functions to find the number of images in each dataset (training, validation and test)"
      ]
    },
    {
      "cell_type": "code",
      "metadata": {
        "id": "K7QG9yNByMcE",
        "colab_type": "code",
        "colab": {}
      },
      "source": [
        "# count the number of image in each dataset base on split ratio\n",
        "def get_split_numbers (person_images_list, train_ratio = 0.5, val_ratio = 0.25, \n",
        "                       test_ratio = 0.25):\n",
        "  total_count = 0\n",
        "  # count the total numer of images\n",
        "  for person_images in person_images_list:\n",
        "    total_count += len(person_images)\n",
        "  est_train_size = int(total_count * train_ratio)\n",
        "  est_val_size = int(total_count * val_ratio)\n",
        "\n",
        "  curr_count = 0\n",
        "  train_size = -1\n",
        "  val_size = -1\n",
        "  test_size = -1\n",
        "  for person_images in person_images_list:\n",
        "    next_count = curr_count + len(person_images)\n",
        "    if next_count < est_train_size:\n",
        "      curr_count = next_count\n",
        "      continue\n",
        "\n",
        "    if next_count == est_train_size:\n",
        "      curr_count = next_count\n",
        "      train_size = curr_count\n",
        "      continue\n",
        "    \n",
        "    # curr_count + len(person_images) > est_train_size here\n",
        "    if train_size == -1:\n",
        "      train_size = curr_count\n",
        "    \n",
        "    if next_count - train_size < est_val_size:\n",
        "      curr_count = next_count\n",
        "      continue\n",
        "    \n",
        "    val_size = next_count - train_size\n",
        "    # if validation size more than 10% larger than expected, use the smaller value\n",
        "    if val_size > est_val_size * 1.1:\n",
        "      val_size = curr_count - train_size\n",
        "\n",
        "    break\n",
        "\n",
        "  test_size = total_count - val_size - train_size\n",
        "\n",
        "  return train_size, val_size, test_size"
      ],
      "execution_count": 0,
      "outputs": []
    },
    {
      "cell_type": "code",
      "metadata": {
        "id": "45_99NAcyfqx",
        "colab_type": "code",
        "colab": {}
      },
      "source": [
        "# split the images into training, validation and test\n",
        "def split_images(person_images_list, train_size, val_size, test_size):\n",
        "  all_images = []\n",
        "  all_size = train_size + val_size + test_size\n",
        "  for images in person_images_list:\n",
        "    prev_size = len(all_images)\n",
        "    all_images = all_images + images\n",
        "    curr_size = len(all_images)\n",
        "\n",
        "\n",
        "    if curr_size > train_size and prev_size < train_size:\n",
        "      # make sure that images from the same person does not appear in both\n",
        "      # train_set and validation set\n",
        "      all_images = all_images[:train_size]\n",
        "      continue\n",
        "    if curr_size > train_size + val_size and prev_size < train_size + val_size:\n",
        "      # make sure that the images from the same person does not appear in both\n",
        "      # validation set and test set\n",
        "      all_images = all_images[:train_size + val_size]\n",
        "      continue\n",
        "\n",
        "\n",
        "  train_set = all_images[:train_size]\n",
        "  val_set = all_images[train_size : train_size + val_size]\n",
        "  test_set = all_images[train_size + val_size : all_size]\n",
        "  return train_set, val_set, test_set\n"
      ],
      "execution_count": 0,
      "outputs": []
    },
    {
      "cell_type": "markdown",
      "metadata": {
        "id": "PEJqYIVJ6YvR",
        "colab_type": "text"
      },
      "source": [
        "Split the images into training, validation and test"
      ]
    },
    {
      "cell_type": "code",
      "metadata": {
        "id": "c08tCKGmyv7f",
        "colab_type": "code",
        "outputId": "c9599571-63d7-4e7b-cb6a-39b737ea7a4f",
        "colab": {
          "base_uri": "https://localhost:8080/",
          "height": 104
        }
      },
      "source": [
        "# split the images into training, validation and test\n",
        "benign_train_size, benign_val_size, benign_test_size = get_split_numbers (\n",
        "                                                            benign_images)\n",
        "print(\"get split count for benign after\", timer.elapsed())\n",
        "\n",
        "# split the dataset for benign images\n",
        "print(\"starting to split benign image at\", timer.elapsed())\n",
        "benign_train, benign_val, benign_test = split_images(benign_images,\n",
        "                        benign_train_size, benign_val_size, benign_test_size)\n",
        "\n",
        "print(\"done splitting benign image at\", timer.elapsed())\n",
        "\n",
        "print(\"starting to split malignant image at\", timer.elapsed())\n",
        "\n",
        "malignant_train_size, malignant_val_size, malignant_test_size = (\n",
        "    get_split_numbers (malignant_images))\n",
        "\n",
        "malignant_train, malignant_val, malignant_test = split_images(malignant_images, \n",
        "                 malignant_train_size, malignant_val_size, malignant_test_size)\n",
        "print(\"complete splitting malignant image at\", timer.elapsed())"
      ],
      "execution_count": 0,
      "outputs": [
        {
          "output_type": "stream",
          "text": [
            "get split count for benign after 1 minutes 1 seconds\n",
            "starting to split benign image at 1 minutes 1 seconds\n",
            "done splitting benign image at 1 minutes 1 seconds\n",
            "starting to split malignant image at 1 minutes 1 seconds\n",
            "complete splitting malignant image at 1 minutes 1 seconds\n"
          ],
          "name": "stdout"
        }
      ]
    },
    {
      "cell_type": "code",
      "metadata": {
        "colab_type": "code",
        "id": "372Pet7NhMh9",
        "outputId": "a736baaa-e203-4143-e3d1-9de66ac79e9e",
        "colab": {
          "base_uri": "https://localhost:8080/",
          "height": 52
        }
      },
      "source": [
        "# reducing the size of malignant dataset\n",
        "def reduce_dataset_randomly(dataset, target_value):\n",
        "  random.shuffle(dataset)\n",
        "  del dataset[:target_value]\n",
        "\n",
        "if IS_MALIGNANT_AND_BENIGN_SAME_SIZE:\n",
        "  print(\"reducing size of malignant data at\", timer.elapsed())\n",
        "  reduce_dataset_randomly(malignant_train, benign_train_size)\n",
        "  reduce_dataset_randomly(malignant_val, benign_val_size)\n",
        "  reduce_dataset_randomly(malignant_test, benign_test_size)\n",
        "  print(\"done reducing size of malignant data at\", timer.elapsed())"
      ],
      "execution_count": 0,
      "outputs": [
        {
          "output_type": "stream",
          "text": [
            "reducing size of malignant data at 1 minutes 1 seconds\n",
            "done reducing size of malignant data at 1 minutes 1 seconds\n"
          ],
          "name": "stdout"
        }
      ]
    },
    {
      "cell_type": "markdown",
      "metadata": {
        "id": "eiAsbEMU6ivr",
        "colab_type": "text"
      },
      "source": [
        "# Create the x dataset"
      ]
    },
    {
      "cell_type": "code",
      "metadata": {
        "id": "_SPsPz9yyxxC",
        "colab_type": "code",
        "outputId": "d8b101cc-b7fa-4b02-e866-1fff1f2bdf46",
        "colab": {
          "base_uri": "https://localhost:8080/",
          "height": 86
        }
      },
      "source": [
        "# join the benign and malignant arrays into rank4 numpy arrays\n",
        "print(\"staring to create train_x at\", timer.elapsed())\n",
        "train_x = np.array(benign_train + malignant_train)\n",
        "benign_train_size = len(benign_train)\n",
        "malignant_train_size = len(malignant_train)\n",
        "del benign_train\n",
        "del malignant_train\n",
        "print(\"done creating train_x at\", timer.elapsed())\n",
        "\n",
        "val_x = np.array(benign_val + malignant_val)\n",
        "benign_val_size = len(benign_val)\n",
        "malignant_val_size = len(malignant_val)\n",
        "del benign_val\n",
        "del malignant_val\n",
        "print(\"done creating val_x at\", timer.elapsed())\n",
        "\n",
        "test_x = np.array(benign_test + malignant_test)\n",
        "benign_test_size = len(benign_test)\n",
        "malignant_test_size = len(malignant_test)\n",
        "del benign_test\n",
        "del malignant_test\n",
        "print(\"done creating test_x at\", timer.elapsed())"
      ],
      "execution_count": 0,
      "outputs": [
        {
          "output_type": "stream",
          "text": [
            "staring to create train_x at 1 minutes 1 seconds\n",
            "done creating train_x at 1 minutes 3 seconds\n",
            "done creating val_x at 1 minutes 6 seconds\n",
            "done creating test_x at 1 minutes 9 seconds\n"
          ],
          "name": "stdout"
        }
      ]
    },
    {
      "cell_type": "markdown",
      "metadata": {
        "id": "Jz34VDz46Ua7",
        "colab_type": "text"
      },
      "source": [
        "Create the y dataset"
      ]
    },
    {
      "cell_type": "code",
      "metadata": {
        "id": "9YK5F9rAzvCY",
        "colab_type": "code",
        "outputId": "0d0665cf-9da9-45a4-b137-029c7432e26c",
        "colab": {
          "base_uri": "https://localhost:8080/",
          "height": 52
        }
      },
      "source": [
        "# create the y datasets\n",
        "def get_y_numpy(zero_size, one_size):\n",
        "  zeros = np.zeros(zero_size)\n",
        "  ones = np.ones(one_size)\n",
        "  result = np.concatenate((zeros, ones), axis=0)\n",
        "  result = to_categorical(result, num_classes=2)\n",
        "  return result\n",
        "\n",
        "\n",
        "print(\"starting to create the y numpy at\", timer.elapsed())\n",
        "train_y = get_y_numpy(benign_train_size, malignant_train_size)\n",
        "val_y = get_y_numpy(benign_val_size, malignant_val_size)\n",
        "test_y = get_y_numpy(benign_test_size, malignant_test_size)\n",
        "print(\"done creating the y numpy at\", timer.elapsed())"
      ],
      "execution_count": 0,
      "outputs": [
        {
          "output_type": "stream",
          "text": [
            "starting to create the y numpy at 1 minutes 9 seconds\n",
            "done creating the y numpy at 1 minutes 9 seconds\n"
          ],
          "name": "stdout"
        }
      ]
    },
    {
      "cell_type": "code",
      "metadata": {
        "id": "3vzzREXFL_2c",
        "colab_type": "code",
        "outputId": "25496dbc-727a-4b1d-89cc-d1c0d45f992b",
        "colab": {
          "base_uri": "https://localhost:8080/",
          "height": 121
        }
      },
      "source": [
        "print(\"train_x.shape =\", train_x.shape)\n",
        "print(\"val_x.shape =\", val_x.shape)\n",
        "print(\"test_x.shape = \", test_x.shape)\n",
        "\n",
        "print(\"train_y.shape =\", train_y.shape)\n",
        "print(\"val_y.shape =\", val_y.shape)\n",
        "print(\"test_y.shape =\", test_y.shape)"
      ],
      "execution_count": 0,
      "outputs": [
        {
          "output_type": "stream",
          "text": [
            "train_x.shape = (2659, 300, 300, 3)\n",
            "val_x.shape = (1393, 300, 300, 3)\n",
            "test_x.shape =  (1377, 300, 300, 3)\n",
            "train_y.shape = (2659, 2)\n",
            "val_y.shape = (1393, 2)\n",
            "test_y.shape = (1377, 2)\n"
          ],
          "name": "stdout"
        }
      ]
    },
    {
      "cell_type": "markdown",
      "metadata": {
        "id": "vaTl5u5i7BLi",
        "colab_type": "text"
      },
      "source": [
        "Creating the dataset generator"
      ]
    },
    {
      "cell_type": "code",
      "metadata": {
        "id": "65EdKUkReU3H",
        "colab_type": "code",
        "outputId": "f207435e-752c-4dcf-a859-a3911503cb0e",
        "colab": {
          "base_uri": "https://localhost:8080/",
          "height": 52
        }
      },
      "source": [
        "# initialise the generators\n",
        "train_datagen = ImageDataGenerator(\n",
        "    rotation_range=40,\n",
        "    width_shift_range=0.2,\n",
        "    height_shift_range=0.2,\n",
        "    shear_range=0.2,\n",
        "    zoom_range=0.2,\n",
        "    horizontal_flip=True,\n",
        "    fill_mode='nearest'\n",
        ")\n",
        "print(\"starting to initalise the generators at\", timer.elapsed())\n",
        "# create the test generator\n",
        "test_datagen = ImageDataGenerator()\n",
        "# create the train_generator\n",
        "train_generator = train_datagen.flow(train_x, train_y, \n",
        "                                     batch_size=TRAIN_BATCH_SIZE)\n",
        "\n",
        "validation_generator = test_datagen.flow(val_x, val_y,\n",
        "                                         batch_size=VALIDATION_BATCH_SIZE)\n",
        "print(\"done initialising the generators at\", timer.elapsed())"
      ],
      "execution_count": 0,
      "outputs": [
        {
          "output_type": "stream",
          "text": [
            "starting to initalise the generators at 1 minutes 9 seconds\n",
            "done initialising the generators at 1 minutes 9 seconds\n"
          ],
          "name": "stdout"
        }
      ]
    },
    {
      "cell_type": "markdown",
      "metadata": {
        "id": "ohkDFy6B6m7j",
        "colab_type": "text"
      },
      "source": [
        "# Build the model"
      ]
    },
    {
      "cell_type": "code",
      "metadata": {
        "id": "OlRa0_xfy9d8",
        "colab_type": "code",
        "colab": {}
      },
      "source": [
        "equal_str = 'equal' if IS_MALIGNANT_AND_BENIGN_SAME_SIZE else 'unequal'\n",
        "local_hdf5_fname = 'yo_model_hdf5_{}_{}_{}.hdf5'.format(TARGET_WIDTH, equal_str, \n",
        "                                                   time_stamp)\n",
        "\n",
        "learn_control = ReduceLROnPlateau(monitor='val_acc', patience=5,\n",
        "                                verbose=1,factor=0.2, min_lr=1e-7)\n",
        "\n",
        "checkpoint = ModelCheckpoint(local_hdf5_fname, monitor='val_acc', verbose=1,\n",
        "                            save_best_only=True, mode='max')\n"
      ],
      "execution_count": 0,
      "outputs": []
    },
    {
      "cell_type": "code",
      "metadata": {
        "id": "Vxr8DwMWZ77y",
        "colab_type": "code",
        "outputId": "30e6c889-e23a-4aeb-aab6-5814bfeb5d38",
        "colab": {
          "base_uri": "https://localhost:8080/",
          "height": 541
        }
      },
      "source": [
        "# building the model base on VGG16\n",
        "print(\"starting to build the model at\", timer.elapsed())\n",
        "conv_base = VGG16(weights='imagenet',\n",
        "                  include_top=False,\n",
        "                  input_shape=(TARGET_HEIGHT, TARGET_WIDTH, 3))\n",
        "model = models.Sequential()\n",
        "model.add(conv_base)\n",
        "model.add(layers.Flatten())\n",
        "model.add(layers.Dense(256, activation='relu'))\n",
        "model.add(layers.Dense(2, activation='sigmoid'))\n",
        "conv_base.trainable=False\n",
        "model.compile(optimizer=optimizers.RMSprop(lr=2e-5),\n",
        "              loss='binary_crossentropy',\n",
        "              metrics=['acc'])\n",
        "print(\"done compiling the model at\", timer.elapsed())"
      ],
      "execution_count": 0,
      "outputs": [
        {
          "output_type": "stream",
          "text": [
            "starting to build the model at 1 minutes 9 seconds\n",
            "WARNING:tensorflow:From /usr/local/lib/python3.6/dist-packages/keras/backend/tensorflow_backend.py:66: The name tf.get_default_graph is deprecated. Please use tf.compat.v1.get_default_graph instead.\n",
            "\n",
            "WARNING:tensorflow:From /usr/local/lib/python3.6/dist-packages/keras/backend/tensorflow_backend.py:541: The name tf.placeholder is deprecated. Please use tf.compat.v1.placeholder instead.\n",
            "\n",
            "WARNING:tensorflow:From /usr/local/lib/python3.6/dist-packages/keras/backend/tensorflow_backend.py:4432: The name tf.random_uniform is deprecated. Please use tf.random.uniform instead.\n",
            "\n",
            "WARNING:tensorflow:From /usr/local/lib/python3.6/dist-packages/keras/backend/tensorflow_backend.py:4267: The name tf.nn.max_pool is deprecated. Please use tf.nn.max_pool2d instead.\n",
            "\n",
            "WARNING:tensorflow:From /usr/local/lib/python3.6/dist-packages/keras/backend/tensorflow_backend.py:190: The name tf.get_default_session is deprecated. Please use tf.compat.v1.get_default_session instead.\n",
            "\n",
            "WARNING:tensorflow:From /usr/local/lib/python3.6/dist-packages/keras/backend/tensorflow_backend.py:197: The name tf.ConfigProto is deprecated. Please use tf.compat.v1.ConfigProto instead.\n",
            "\n",
            "WARNING:tensorflow:From /usr/local/lib/python3.6/dist-packages/keras/backend/tensorflow_backend.py:203: The name tf.Session is deprecated. Please use tf.compat.v1.Session instead.\n",
            "\n",
            "WARNING:tensorflow:From /usr/local/lib/python3.6/dist-packages/keras/backend/tensorflow_backend.py:207: The name tf.global_variables is deprecated. Please use tf.compat.v1.global_variables instead.\n",
            "\n",
            "WARNING:tensorflow:From /usr/local/lib/python3.6/dist-packages/keras/backend/tensorflow_backend.py:216: The name tf.is_variable_initialized is deprecated. Please use tf.compat.v1.is_variable_initialized instead.\n",
            "\n",
            "WARNING:tensorflow:From /usr/local/lib/python3.6/dist-packages/keras/backend/tensorflow_backend.py:223: The name tf.variables_initializer is deprecated. Please use tf.compat.v1.variables_initializer instead.\n",
            "\n",
            "WARNING:tensorflow:From /usr/local/lib/python3.6/dist-packages/keras/optimizers.py:793: The name tf.train.Optimizer is deprecated. Please use tf.compat.v1.train.Optimizer instead.\n",
            "\n",
            "WARNING:tensorflow:From /usr/local/lib/python3.6/dist-packages/keras/backend/tensorflow_backend.py:3657: The name tf.log is deprecated. Please use tf.math.log instead.\n",
            "\n",
            "WARNING:tensorflow:From /usr/local/lib/python3.6/dist-packages/tensorflow_core/python/ops/nn_impl.py:183: where (from tensorflow.python.ops.array_ops) is deprecated and will be removed in a future version.\n",
            "Instructions for updating:\n",
            "Use tf.where in 2.0, which has the same broadcast rule as np.where\n",
            "done compiling the model at 1 minutes 10 seconds\n"
          ],
          "name": "stdout"
        }
      ]
    },
    {
      "cell_type": "markdown",
      "metadata": {
        "id": "-RN97b0S7Igy",
        "colab_type": "text"
      },
      "source": [
        " # Run the model"
      ]
    },
    {
      "cell_type": "code",
      "metadata": {
        "id": "zuV2q94lzVEv",
        "colab_type": "code",
        "outputId": "42a6183d-4be4-4396-f654-5d4d989ce6e3",
        "colab": {
          "base_uri": "https://localhost:8080/",
          "height": 295
        }
      },
      "source": [
        "model.summary()"
      ],
      "execution_count": 0,
      "outputs": [
        {
          "output_type": "stream",
          "text": [
            "Model: \"sequential_1\"\n",
            "_________________________________________________________________\n",
            "Layer (type)                 Output Shape              Param #   \n",
            "=================================================================\n",
            "vgg16 (Model)                (None, 9, 9, 512)         14714688  \n",
            "_________________________________________________________________\n",
            "flatten_1 (Flatten)          (None, 41472)             0         \n",
            "_________________________________________________________________\n",
            "dense_1 (Dense)              (None, 256)               10617088  \n",
            "_________________________________________________________________\n",
            "dense_2 (Dense)              (None, 2)                 514       \n",
            "=================================================================\n",
            "Total params: 25,332,290\n",
            "Trainable params: 10,617,602\n",
            "Non-trainable params: 14,714,688\n",
            "_________________________________________________________________\n"
          ],
          "name": "stdout"
        }
      ]
    },
    {
      "cell_type": "code",
      "metadata": {
        "id": "wbCRJKXNpwuC",
        "colab_type": "code",
        "outputId": "05d4dafd-2ae0-4671-ae8f-c719247187da",
        "colab": {
          "base_uri": "https://localhost:8080/",
          "height": 1000
        }
      },
      "source": [
        "# initialise and train the model\n",
        "model_timer = my_timer()\n",
        "print(\"starting to train the model at\", timer.elapsed())\n",
        "history = model.fit_generator(\n",
        "    train_generator,\n",
        "    steps_per_epoch=(len(train_x) // TRAIN_BATCH_SIZE),\n",
        "    epochs=TRAIN_EPOCHS,\n",
        "    validation_data=validation_generator,\n",
        "    validation_steps=(len(val_x) // VALIDATION_BATCH_SIZE),\n",
        "    callbacks=[learn_control, checkpoint]\n",
        ")\n",
        "print(\"done training the model at\", timer.elapsed())\n",
        "print(\"first round of training done in\", model_timer.elapsed())"
      ],
      "execution_count": 0,
      "outputs": [
        {
          "output_type": "stream",
          "text": [
            "starting to train the model at 1 minutes 10 seconds\n",
            "WARNING:tensorflow:From /usr/local/lib/python3.6/dist-packages/keras/backend/tensorflow_backend.py:1033: The name tf.assign_add is deprecated. Please use tf.compat.v1.assign_add instead.\n",
            "\n",
            "WARNING:tensorflow:From /usr/local/lib/python3.6/dist-packages/keras/backend/tensorflow_backend.py:1020: The name tf.assign is deprecated. Please use tf.compat.v1.assign instead.\n",
            "\n",
            "Epoch 1/30\n",
            "332/332 [==============================] - 59s 179ms/step - loss: 1.5385 - acc: 0.7215 - val_loss: 1.7383 - val_acc: 0.5999\n",
            "\n",
            "Epoch 00001: val_acc improved from -inf to 0.59986, saving model to yo_model_hdf5_300_equal_20191114_000328.hdf5\n",
            "Epoch 2/30\n",
            "332/332 [==============================] - 58s 174ms/step - loss: 0.8972 - acc: 0.7722 - val_loss: 1.4744 - val_acc: 0.6000\n",
            "\n",
            "Epoch 00002: val_acc improved from 0.59986 to 0.60000, saving model to yo_model_hdf5_300_equal_20191114_000328.hdf5\n",
            "Epoch 3/30\n",
            "332/332 [==============================] - 58s 175ms/step - loss: 0.6315 - acc: 0.7999 - val_loss: 1.2155 - val_acc: 0.6249\n",
            "\n",
            "Epoch 00003: val_acc improved from 0.60000 to 0.62491, saving model to yo_model_hdf5_300_equal_20191114_000328.hdf5\n",
            "Epoch 4/30\n",
            "332/332 [==============================] - 57s 172ms/step - loss: 0.5599 - acc: 0.8143 - val_loss: 1.1051 - val_acc: 0.6437\n",
            "\n",
            "Epoch 00004: val_acc improved from 0.62491 to 0.64368, saving model to yo_model_hdf5_300_equal_20191114_000328.hdf5\n",
            "Epoch 5/30\n",
            "332/332 [==============================] - 57s 172ms/step - loss: 0.5198 - acc: 0.8226 - val_loss: 1.1549 - val_acc: 0.6570\n",
            "\n",
            "Epoch 00005: val_acc improved from 0.64368 to 0.65704, saving model to yo_model_hdf5_300_equal_20191114_000328.hdf5\n",
            "Epoch 6/30\n",
            "332/332 [==============================] - 57s 173ms/step - loss: 0.5129 - acc: 0.8285 - val_loss: 1.2324 - val_acc: 0.6588\n",
            "\n",
            "Epoch 00006: val_acc improved from 0.65704 to 0.65884, saving model to yo_model_hdf5_300_equal_20191114_000328.hdf5\n",
            "Epoch 7/30\n",
            "332/332 [==============================] - 58s 174ms/step - loss: 0.5361 - acc: 0.8299 - val_loss: 1.1262 - val_acc: 0.6635\n",
            "\n",
            "Epoch 00007: val_acc improved from 0.65884 to 0.66354, saving model to yo_model_hdf5_300_equal_20191114_000328.hdf5\n",
            "Epoch 8/30\n",
            "332/332 [==============================] - 58s 173ms/step - loss: 0.5072 - acc: 0.8437 - val_loss: 1.2398 - val_acc: 0.6628\n",
            "\n",
            "Epoch 00008: val_acc did not improve from 0.66354\n",
            "Epoch 9/30\n",
            "332/332 [==============================] - 57s 173ms/step - loss: 0.5117 - acc: 0.8347 - val_loss: 1.2039 - val_acc: 0.6697\n",
            "\n",
            "Epoch 00009: val_acc improved from 0.66354 to 0.66968, saving model to yo_model_hdf5_300_equal_20191114_000328.hdf5\n",
            "Epoch 10/30\n",
            "332/332 [==============================] - 57s 171ms/step - loss: 0.5323 - acc: 0.8456 - val_loss: 1.2518 - val_acc: 0.6592\n",
            "\n",
            "Epoch 00010: val_acc did not improve from 0.66968\n",
            "Epoch 11/30\n",
            "332/332 [==============================] - 58s 173ms/step - loss: 0.5136 - acc: 0.8489 - val_loss: 1.2382 - val_acc: 0.6798\n",
            "\n",
            "Epoch 00011: val_acc improved from 0.66968 to 0.67978, saving model to yo_model_hdf5_300_equal_20191114_000328.hdf5\n",
            "Epoch 12/30\n",
            "332/332 [==============================] - 57s 171ms/step - loss: 0.5008 - acc: 0.8457 - val_loss: 1.2806 - val_acc: 0.6773\n",
            "\n",
            "Epoch 00012: val_acc did not improve from 0.67978\n",
            "Epoch 13/30\n",
            "332/332 [==============================] - 56s 170ms/step - loss: 0.4795 - acc: 0.8496 - val_loss: 1.3509 - val_acc: 0.6751\n",
            "\n",
            "Epoch 00013: val_acc did not improve from 0.67978\n",
            "Epoch 14/30\n",
            "332/332 [==============================] - 56s 170ms/step - loss: 0.4788 - acc: 0.8598 - val_loss: 1.2338 - val_acc: 0.6827\n",
            "\n",
            "Epoch 00014: val_acc improved from 0.67978 to 0.68267, saving model to yo_model_hdf5_300_equal_20191114_000328.hdf5\n",
            "Epoch 15/30\n",
            "332/332 [==============================] - 57s 171ms/step - loss: 0.4517 - acc: 0.8656 - val_loss: 1.4432 - val_acc: 0.6700\n",
            "\n",
            "Epoch 00015: val_acc did not improve from 0.68267\n",
            "Epoch 16/30\n",
            "332/332 [==============================] - 56s 169ms/step - loss: 0.4671 - acc: 0.8645 - val_loss: 1.2942 - val_acc: 0.6816\n",
            "\n",
            "Epoch 00016: val_acc did not improve from 0.68267\n",
            "Epoch 17/30\n",
            "332/332 [==============================] - 56s 170ms/step - loss: 0.4856 - acc: 0.8562 - val_loss: 1.3150 - val_acc: 0.6892\n",
            "\n",
            "Epoch 00017: val_acc improved from 0.68267 to 0.68917, saving model to yo_model_hdf5_300_equal_20191114_000328.hdf5\n",
            "Epoch 18/30\n",
            "332/332 [==============================] - 56s 169ms/step - loss: 0.4375 - acc: 0.8667 - val_loss: 1.3765 - val_acc: 0.6726\n",
            "\n",
            "Epoch 00018: val_acc did not improve from 0.68917\n",
            "Epoch 19/30\n",
            "332/332 [==============================] - 56s 170ms/step - loss: 0.4451 - acc: 0.8742 - val_loss: 1.5085 - val_acc: 0.6765\n",
            "\n",
            "Epoch 00019: val_acc did not improve from 0.68917\n",
            "Epoch 20/30\n",
            "332/332 [==============================] - 56s 168ms/step - loss: 0.4524 - acc: 0.8673 - val_loss: 1.5275 - val_acc: 0.6697\n",
            "\n",
            "Epoch 00020: val_acc did not improve from 0.68917\n",
            "Epoch 21/30\n",
            "332/332 [==============================] - 56s 169ms/step - loss: 0.5123 - acc: 0.8699 - val_loss: 1.4188 - val_acc: 0.6751\n",
            "\n",
            "Epoch 00021: val_acc did not improve from 0.68917\n",
            "Epoch 22/30\n",
            "332/332 [==============================] - 56s 169ms/step - loss: 0.4240 - acc: 0.8737 - val_loss: 1.4059 - val_acc: 0.6986\n",
            "\n",
            "Epoch 00022: val_acc improved from 0.68917 to 0.69856, saving model to yo_model_hdf5_300_equal_20191114_000328.hdf5\n",
            "Epoch 23/30\n",
            "332/332 [==============================] - 57s 170ms/step - loss: 0.4671 - acc: 0.8736 - val_loss: 1.5373 - val_acc: 0.6975\n",
            "\n",
            "Epoch 00023: val_acc did not improve from 0.69856\n",
            "Epoch 24/30\n",
            "332/332 [==============================] - 56s 167ms/step - loss: 0.4394 - acc: 0.8743 - val_loss: 1.5143 - val_acc: 0.6913\n",
            "\n",
            "Epoch 00024: val_acc did not improve from 0.69856\n",
            "Epoch 25/30\n",
            "332/332 [==============================] - 56s 169ms/step - loss: 0.4486 - acc: 0.8831 - val_loss: 1.4850 - val_acc: 0.6996\n",
            "\n",
            "Epoch 00025: val_acc improved from 0.69856 to 0.69964, saving model to yo_model_hdf5_300_equal_20191114_000328.hdf5\n",
            "Epoch 26/30\n",
            "332/332 [==============================] - 55s 167ms/step - loss: 0.4411 - acc: 0.8761 - val_loss: 1.4765 - val_acc: 0.6942\n",
            "\n",
            "Epoch 00026: val_acc did not improve from 0.69964\n",
            "Epoch 27/30\n",
            "332/332 [==============================] - 56s 167ms/step - loss: 0.4642 - acc: 0.8776 - val_loss: 1.4425 - val_acc: 0.6888\n",
            "\n",
            "Epoch 00027: val_acc did not improve from 0.69964\n",
            "Epoch 28/30\n",
            "332/332 [==============================] - 56s 169ms/step - loss: 0.4072 - acc: 0.8874 - val_loss: 1.4849 - val_acc: 0.6859\n",
            "\n",
            "Epoch 00028: val_acc did not improve from 0.69964\n",
            "Epoch 29/30\n",
            "332/332 [==============================] - 56s 170ms/step - loss: 0.3614 - acc: 0.8957 - val_loss: 1.5179 - val_acc: 0.6830\n",
            "\n",
            "Epoch 00029: val_acc did not improve from 0.69964\n",
            "Epoch 30/30\n",
            "332/332 [==============================] - 56s 168ms/step - loss: 0.4523 - acc: 0.8771 - val_loss: 1.5726 - val_acc: 0.6751\n",
            "\n",
            "Epoch 00030: ReduceLROnPlateau reducing learning rate to 3.999999898951501e-06.\n",
            "\n",
            "Epoch 00030: val_acc did not improve from 0.69964\n",
            "done training the model at 29 minutes 34 seconds\n",
            "first round of training done in 28 minutes 23 seconds\n"
          ],
          "name": "stdout"
        }
      ]
    },
    {
      "cell_type": "markdown",
      "metadata": {
        "id": "5It4ekKM5rJF",
        "colab_type": "text"
      },
      "source": [
        "# Save all the related values into google drive"
      ]
    },
    {
      "cell_type": "code",
      "metadata": {
        "id": "KZ7VviJurJ57",
        "colab_type": "code",
        "outputId": "2a39c05c-42f9-4abf-c029-d8c3df21629c",
        "colab": {
          "base_uri": "https://localhost:8080/",
          "height": 121
        }
      },
      "source": [
        "# save the history to plot the graph later on\n",
        "print(\"starting to save at\", timer.elapsed())\n",
        "equal_str = 'equal' if IS_MALIGNANT_AND_BENIGN_SAME_SIZE else 'unequal'\n",
        "print(\"time_stamp = \", time_stamp)\n",
        "print(\"equal_str = {}, time_stamp = \".format(equal_str, time_stamp))\n",
        "temp_history_fname = 'yo_history_{}_{}_{}.json'.format(TARGET_WIDTH, equal_str,\n",
        "                                                       time_stamp)\n",
        "drive_history_fname = os.path.join(HISTORY_DIR, temp_history_fname)\n",
        "with open(drive_history_fname, 'w') as f:\n",
        "  json.dump(str(history.history), f)\n",
        "print(\"done saving to {}\".format(drive_history_fname))\n",
        "\n",
        "# save the model with all its weight and structure\n",
        "local_model_filename = 'yo_model_{}_{}_{}.h5'.format(TARGET_WIDTH, equal_str,\n",
        "                                                     time_stamp)\n",
        "drive_model_filename = os.path.join(HISTORY_DIR, local_model_filename)\n",
        "model.save(local_model_filename)\n",
        "model.save(drive_model_filename)\n",
        "print(\"done saving to\", drive_model_filename)\n",
        "\n",
        "drive_hdf5_fname = os.path.join(HISTORY_DIR, local_hdf5_fname)\n",
        "import shutil\n",
        "shutil.copyfile(local_hdf5_fname, drive_hdf5_fname)\n",
        "print(\"done saving at\", timer.elapsed())"
      ],
      "execution_count": 0,
      "outputs": [
        {
          "output_type": "stream",
          "text": [
            "starting to save at 29 minutes 34 seconds\n",
            "time_stamp =  20191114_000328\n",
            "equal_str = equal, time_stamp = \n",
            "done saving to /mntDrive/My Drive/ML Project/final_code/saved/20191114_000328/yo_history_300_equal_20191114_000328.json\n",
            "done saving to /mntDrive/My Drive/ML Project/final_code/saved/20191114_000328/yo_model_300_equal_20191114_000328.h5\n",
            "done saving at 29 minutes 37 seconds\n"
          ],
          "name": "stdout"
        }
      ]
    },
    {
      "cell_type": "markdown",
      "metadata": {
        "id": "6wXi8JtlEW63",
        "colab_type": "text"
      },
      "source": [
        "  # Loading the model from directory"
      ]
    },
    {
      "cell_type": "code",
      "metadata": {
        "id": "huNISKcZEbjE",
        "colab_type": "code",
        "outputId": "6a5724b8-241f-467b-f7a7-07dc3030f694",
        "colab": {
          "base_uri": "https://localhost:8080/",
          "height": 141
        }
      },
      "source": [
        "if LOAD_WEIGHT_FROM_DIRECTORY:\n",
        "  print(\"local_model_filename = \", local_model_filename)\n",
        "  print(\"local_hdf5_fname =\", local_hdf5_fname)\n",
        "  model = models.load_model(local_model_filename)\n",
        "  model.load_weights(local_hdf5_fname)\n",
        "  print(\"Loading model from {} \\n\\t at {}\".format(drive_hdf5_fname, \n",
        "                                             timer.elapsed()))"
      ],
      "execution_count": 0,
      "outputs": [
        {
          "output_type": "stream",
          "text": [
            "local_model_filename =  yo_model_300_equal_20191114_000328.h5\n",
            "local_hdf5_fname = yo_model_hdf5_300_equal_20191114_000328.hdf5\n"
          ],
          "name": "stdout"
        },
        {
          "output_type": "stream",
          "text": [
            "/usr/local/lib/python3.6/dist-packages/keras/engine/saving.py:350: UserWarning: Error in loading the saved optimizer state. As a result, your model is starting with a freshly initialized optimizer.\n",
            "  warnings.warn('Error in loading the saved optimizer '\n"
          ],
          "name": "stderr"
        },
        {
          "output_type": "stream",
          "text": [
            "Loading model from /mntDrive/My Drive/ML Project/final_code/saved/20191114_000328/yo_model_hdf5_300_equal_20191114_000328.hdf5 \n",
            "\t at 29 minutes 39 seconds\n"
          ],
          "name": "stdout"
        }
      ]
    },
    {
      "cell_type": "markdown",
      "metadata": {
        "id": "DRBTh0VbD_Ta",
        "colab_type": "text"
      },
      "source": [
        "# Plotting the graphs"
      ]
    },
    {
      "cell_type": "code",
      "metadata": {
        "id": "Q5L-c49UGFu9",
        "colab_type": "code",
        "outputId": "cbdaba3a-a11b-43a5-8fa6-7edd4e8edb97",
        "colab": {
          "base_uri": "https://localhost:8080/",
          "height": 545
        }
      },
      "source": [
        "# plot the graph base on history\n",
        "acc = history.history['acc']\n",
        "val_acc = history.history['val_acc']\n",
        "loss = history.history['loss']\n",
        "val_loss = history.history['val_loss']\n",
        "\n",
        "epochs = range(1, len(acc) + 1)\n",
        "plt.plot(epochs, acc, 'bo', label='Training acc')\n",
        "plt.plot(epochs, val_acc, 'b', label='Validation acc')\n",
        "plt.title('Training and validation accuracy')\n",
        "plt.legend()\n",
        "\n",
        "plt.figure()\n",
        "\n",
        "plt.plot(epochs, loss, 'bo', label='Training loss')\n",
        "plt.plot(epochs, val_loss, 'b', label='Validation loss')\n",
        "plt.title('Training and validation loss')\n",
        "plt.legend()\n",
        "\n",
        "plt.show()"
      ],
      "execution_count": 0,
      "outputs": [
        {
          "output_type": "display_data",
          "data": {
            "image/png": "[encoded data removed]",
            "text/plain": [
              "<Figure size 432x288 with 1 Axes>"
            ]
          },
          "metadata": {
            "tags": []
          }
        },
        {
          "output_type": "display_data",
          "data": {
            "image/png": "[encoded data removed]",
            "text/plain": [
              "<Figure size 432x288 with 1 Axes>"
            ]
          },
          "metadata": {
            "tags": []
          }
        }
      ]
    },
    {
      "cell_type": "code",
      "metadata": {
        "id": "nU_hJ8MrHa2A",
        "colab_type": "code",
        "outputId": "231ebe50-b687-4591-f6fb-a504db13b495",
        "colab": {
          "base_uri": "https://localhost:8080/",
          "height": 34
        }
      },
      "source": [
        "# save the plot's image\n",
        "temp_plot_image_name = 'yo_plot_' + time_stamp + '.png'\n",
        "drive_plot_image_name = os.path.join(HISTORY_DIR, temp_plot_image_name)\n",
        "plt.savefig(drive_plot_image_name)"
      ],
      "execution_count": 0,
      "outputs": [
        {
          "output_type": "display_data",
          "data": {
            "text/plain": [
              "<Figure size 432x288 with 0 Axes>"
            ]
          },
          "metadata": {
            "tags": []
          }
        }
      ]
    },
    {
      "cell_type": "markdown",
      "metadata": {
        "id": "dDRhsp5gJeN9",
        "colab_type": "text"
      },
      "source": [
        "# Predictions"
      ]
    },
    {
      "cell_type": "code",
      "metadata": {
        "id": "KAsVllJciJuy",
        "colab_type": "code",
        "colab": {}
      },
      "source": [
        "# load the model with the best weights here\n",
        "model.load_weights(drive_hdf5_fname)"
      ],
      "execution_count": 0,
      "outputs": []
    },
    {
      "cell_type": "code",
      "metadata": {
        "id": "jjUVhV1VJf-a",
        "colab_type": "code",
        "outputId": "625e8dc1-973e-4720-97dc-24dd05e10b34",
        "colab": {
          "base_uri": "https://localhost:8080/",
          "height": 52
        }
      },
      "source": [
        "# obtain the predictions here\n",
        "predictions = model.predict(test_x)\n",
        "confusion_matrix(np.argmax(test_y, axis=1), np.argmax(predictions, axis=1))"
      ],
      "execution_count": 0,
      "outputs": [
        {
          "output_type": "execute_result",
          "data": {
            "text/plain": [
              "array([[528, 144],\n",
              "       [ 98, 607]])"
            ]
          },
          "metadata": {
            "tags": []
          },
          "execution_count": 35
        }
      ]
    },
    {
      "cell_type": "markdown",
      "metadata": {
        "id": "qm44AxeAD8B4",
        "colab_type": "text"
      },
      "source": [
        "# Evaluating the result"
      ]
    },
    {
      "cell_type": "code",
      "metadata": {
        "id": "7Ob6mGjePlHx",
        "colab_type": "code",
        "outputId": "bc52db82-843a-4cf5-b3f4-e9b0015565cc",
        "colab": {
          "base_uri": "https://localhost:8080/",
          "height": 173
        }
      },
      "source": [
        "print(classification_report( np.argmax(test_y, axis=1), np.argmax(predictions, axis=1)))"
      ],
      "execution_count": 0,
      "outputs": [
        {
          "output_type": "stream",
          "text": [
            "              precision    recall  f1-score   support\n",
            "\n",
            "           0       0.84      0.79      0.81       672\n",
            "           1       0.81      0.86      0.83       705\n",
            "\n",
            "    accuracy                           0.82      1377\n",
            "   macro avg       0.83      0.82      0.82      1377\n",
            "weighted avg       0.83      0.82      0.82      1377\n",
            "\n"
          ],
          "name": "stdout"
        }
      ]
    },
    {
      "cell_type": "markdown",
      "metadata": {
        "id": "Ne723O9vxOLM",
        "colab_type": "text"
      },
      "source": [
        "# Fine tuning"
      ]
    },
    {
      "cell_type": "code",
      "metadata": {
        "id": "S89LfQqcxNgk",
        "colab_type": "code",
        "outputId": "17d7652c-b42b-4375-e553-c784ac818e66",
        "colab": {
          "base_uri": "https://localhost:8080/",
          "height": 312
        }
      },
      "source": [
        "# Unfreeze the last few layers\n",
        "conv_base.trainable = True\n",
        "set_trainable = False\n",
        "num_unfreeze_layer = 0\n",
        "num_freeze_layer = 0\n",
        "\n",
        "for layer in conv_base.layers:\n",
        "  if layer.name == FREEZE_LAYER:\n",
        "    set_trainable = True\n",
        "  if set_trainable:\n",
        "    layer.trainable = True\n",
        "    num_unfreeze_layer += 1\n",
        "  else:\n",
        "    print(layer.name)\n",
        "    layer.trainable = False\n",
        "    num_freeze_layer += 1\n",
        "print(\"num_unfreeze_layer =\", num_unfreeze_layer)\n",
        "print(\"num_freeze_layer =\", num_freeze_layer)"
      ],
      "execution_count": 0,
      "outputs": [
        {
          "output_type": "stream",
          "text": [
            "input_1\n",
            "block1_conv1\n",
            "block1_conv2\n",
            "block1_pool\n",
            "block2_conv1\n",
            "block2_conv2\n",
            "block2_pool\n",
            "block3_conv1\n",
            "block3_conv2\n",
            "block3_conv3\n",
            "block3_pool\n",
            "block4_conv1\n",
            "block4_conv2\n",
            "block4_conv3\n",
            "block4_pool\n",
            "num_unfreeze_layer = 4\n",
            "num_freeze_layer = 15\n"
          ],
          "name": "stdout"
        }
      ]
    },
    {
      "cell_type": "code",
      "metadata": {
        "id": "hQCCJpqRxgHO",
        "colab_type": "code",
        "colab": {}
      },
      "source": [
        "# Compile the model\n",
        "model.compile(loss='binary_crossentropy',\n",
        "              optimizer=optimizers.RMSprop(lr=1e-5),\n",
        "              metrics=['acc'])"
      ],
      "execution_count": 0,
      "outputs": []
    },
    {
      "cell_type": "code",
      "metadata": {
        "id": "2nP2kX23x1bF",
        "colab_type": "code",
        "outputId": "cc2e4316-1fdb-4e18-aec4-d99cae242c9d",
        "colab": {
          "base_uri": "https://localhost:8080/",
          "height": 1000
        }
      },
      "source": [
        "# train the model\n",
        "equal_str = 'equal' if IS_MALIGNANT_AND_BENIGN_SAME_SIZE else 'unequal'\n",
        "local_hdf5_finetune_fname = 'yo_model_hdf5_{}_{}_{}_finetune.hdf5'.format(\n",
        "                                      TARGET_WIDTH, equal_str, time_stamp)\n",
        "print(\"local_hdf5_fname =\", local_hdf5_finetune_fname)\n",
        "\n",
        "learn_control = ReduceLROnPlateau(monitor='val_acc', patience=5,\n",
        "                                verbose=1,factor=0.2, min_lr=1e-7)\n",
        "\n",
        "checkpoint = ModelCheckpoint(local_hdf5_finetune_fname, monitor='val_acc', \n",
        "                             verbose=1, save_best_only=True, mode='max')\n",
        "\n",
        "print(\"starting to train the model at\", timer.elapsed())\n",
        "history = model.fit_generator(\n",
        "    train_generator,\n",
        "    steps_per_epoch=(len(train_x) // TRAIN_BATCH_SIZE),\n",
        "    epochs=TRAIN_EPOCHS,\n",
        "    validation_data=validation_generator,\n",
        "    validation_steps=(len(val_x) // VALIDATION_BATCH_SIZE),\n",
        "    callbacks=[learn_control, checkpoint]\n",
        ")\n",
        "print(\"done training the model at\", timer.elapsed())\n",
        "print(\"time for training two models =\", timer.elapsed())"
      ],
      "execution_count": 0,
      "outputs": [
        {
          "output_type": "stream",
          "text": [
            "local_hdf5_fname = yo_model_hdf5_300_equal_20191114_000328_finetune.hdf5\n",
            "starting to train the model at 29 minutes 47 seconds\n",
            "Epoch 1/30\n",
            "332/332 [==============================] - 59s 177ms/step - loss: 0.4466 - acc: 0.8255 - val_loss: 0.8809 - val_acc: 0.6893\n",
            "\n",
            "Epoch 00001: val_acc improved from -inf to 0.68930, saving model to yo_model_hdf5_300_equal_20191114_000328_finetune.hdf5\n",
            "Epoch 2/30\n",
            "332/332 [==============================] - 60s 181ms/step - loss: 0.3442 - acc: 0.8682 - val_loss: 0.7603 - val_acc: 0.6906\n",
            "\n",
            "Epoch 00002: val_acc improved from 0.68930 to 0.69061, saving model to yo_model_hdf5_300_equal_20191114_000328_finetune.hdf5\n",
            "Epoch 3/30\n",
            "332/332 [==============================] - 61s 183ms/step - loss: 0.2609 - acc: 0.8999 - val_loss: 1.1831 - val_acc: 0.7542\n",
            "\n",
            "Epoch 00003: val_acc improved from 0.69061 to 0.75415, saving model to yo_model_hdf5_300_equal_20191114_000328_finetune.hdf5\n",
            "Epoch 4/30\n",
            "332/332 [==============================] - 59s 179ms/step - loss: 0.2384 - acc: 0.9153 - val_loss: 0.7505 - val_acc: 0.8235\n",
            "\n",
            "Epoch 00004: val_acc improved from 0.75415 to 0.82347, saving model to yo_model_hdf5_300_equal_20191114_000328_finetune.hdf5\n",
            "Epoch 5/30\n",
            "332/332 [==============================] - 59s 179ms/step - loss: 0.2047 - acc: 0.9238 - val_loss: 2.0267 - val_acc: 0.7271\n",
            "\n",
            "Epoch 00005: val_acc did not improve from 0.82347\n",
            "Epoch 6/30\n",
            "332/332 [==============================] - 59s 178ms/step - loss: 0.1932 - acc: 0.9364 - val_loss: 0.7569 - val_acc: 0.8116\n",
            "\n",
            "Epoch 00006: val_acc did not improve from 0.82347\n",
            "Epoch 7/30\n",
            "332/332 [==============================] - 59s 179ms/step - loss: 0.1771 - acc: 0.9411 - val_loss: 1.5747 - val_acc: 0.7058\n",
            "\n",
            "Epoch 00007: val_acc did not improve from 0.82347\n",
            "Epoch 8/30\n",
            "332/332 [==============================] - 59s 178ms/step - loss: 0.1802 - acc: 0.9454 - val_loss: 1.2253 - val_acc: 0.7628\n",
            "\n",
            "Epoch 00008: val_acc did not improve from 0.82347\n",
            "Epoch 9/30\n",
            "332/332 [==============================] - 60s 180ms/step - loss: 0.1680 - acc: 0.9443 - val_loss: 1.5508 - val_acc: 0.7982\n",
            "\n",
            "Epoch 00009: ReduceLROnPlateau reducing learning rate to 1.9999999494757505e-06.\n",
            "\n",
            "Epoch 00009: val_acc did not improve from 0.82347\n",
            "Epoch 10/30\n",
            "332/332 [==============================] - 60s 180ms/step - loss: 0.0767 - acc: 0.9730 - val_loss: 1.7486 - val_acc: 0.7917\n",
            "\n",
            "Epoch 00010: val_acc did not improve from 0.82347\n",
            "Epoch 11/30\n",
            "332/332 [==============================] - 60s 181ms/step - loss: 0.0776 - acc: 0.9755 - val_loss: 0.9337 - val_acc: 0.8625\n",
            "\n",
            "Epoch 00011: val_acc improved from 0.82347 to 0.86245, saving model to yo_model_hdf5_300_equal_20191114_000328_finetune.hdf5\n",
            "Epoch 12/30\n",
            "332/332 [==============================] - 60s 180ms/step - loss: 0.0593 - acc: 0.9787 - val_loss: 1.4771 - val_acc: 0.8303\n",
            "\n",
            "Epoch 00012: val_acc did not improve from 0.86245\n",
            "Epoch 13/30\n",
            "332/332 [==============================] - 60s 180ms/step - loss: 0.0639 - acc: 0.9800 - val_loss: 1.7083 - val_acc: 0.8199\n",
            "\n",
            "Epoch 00013: val_acc did not improve from 0.86245\n",
            "Epoch 14/30\n",
            "332/332 [==============================] - 60s 179ms/step - loss: 0.0616 - acc: 0.9836 - val_loss: 1.2004 - val_acc: 0.8549\n",
            "\n",
            "Epoch 00014: val_acc did not improve from 0.86245\n",
            "Epoch 15/30\n",
            "332/332 [==============================] - 60s 180ms/step - loss: 0.0497 - acc: 0.9861 - val_loss: 1.6446 - val_acc: 0.8303\n",
            "\n",
            "Epoch 00015: val_acc did not improve from 0.86245\n",
            "Epoch 16/30\n",
            "332/332 [==============================] - 60s 182ms/step - loss: 0.0440 - acc: 0.9881 - val_loss: 1.9653 - val_acc: 0.8116\n",
            "\n",
            "Epoch 00016: ReduceLROnPlateau reducing learning rate to 3.999999989900971e-07.\n",
            "\n",
            "Epoch 00016: val_acc did not improve from 0.86245\n",
            "Epoch 17/30\n",
            "332/332 [==============================] - 60s 181ms/step - loss: 0.0385 - acc: 0.9896 - val_loss: 1.8296 - val_acc: 0.8300\n",
            "\n",
            "Epoch 00017: val_acc did not improve from 0.86245\n",
            "Epoch 18/30\n",
            "332/332 [==============================] - 60s 181ms/step - loss: 0.0341 - acc: 0.9880 - val_loss: 1.8383 - val_acc: 0.8289\n",
            "\n",
            "Epoch 00018: val_acc did not improve from 0.86245\n",
            "Epoch 19/30\n",
            "332/332 [==============================] - 60s 181ms/step - loss: 0.0333 - acc: 0.9898 - val_loss: 1.6688 - val_acc: 0.8419\n",
            "\n",
            "Epoch 00019: val_acc did not improve from 0.86245\n",
            "Epoch 20/30\n",
            "332/332 [==============================] - 60s 181ms/step - loss: 0.0307 - acc: 0.9889 - val_loss: 1.6485 - val_acc: 0.8390\n",
            "\n",
            "Epoch 00020: val_acc did not improve from 0.86245\n",
            "Epoch 21/30\n",
            "332/332 [==============================] - 60s 182ms/step - loss: 0.0390 - acc: 0.9883 - val_loss: 1.4987 - val_acc: 0.8542\n",
            "\n",
            "Epoch 00021: ReduceLROnPlateau reducing learning rate to 1e-07.\n",
            "\n",
            "Epoch 00021: val_acc did not improve from 0.86245\n",
            "Epoch 22/30\n",
            "332/332 [==============================] - 60s 180ms/step - loss: 0.0339 - acc: 0.9880 - val_loss: 1.7197 - val_acc: 0.8339\n",
            "\n",
            "Epoch 00022: val_acc did not improve from 0.86245\n",
            "Epoch 23/30\n",
            "332/332 [==============================] - 60s 181ms/step - loss: 0.0347 - acc: 0.9887 - val_loss: 1.5866 - val_acc: 0.8412\n",
            "\n",
            "Epoch 00023: val_acc did not improve from 0.86245\n",
            "Epoch 24/30\n",
            "332/332 [==============================] - 60s 181ms/step - loss: 0.0377 - acc: 0.9895 - val_loss: 1.7341 - val_acc: 0.8365\n",
            "\n",
            "Epoch 00024: val_acc did not improve from 0.86245\n",
            "Epoch 25/30\n",
            "332/332 [==============================] - 60s 181ms/step - loss: 0.0316 - acc: 0.9896 - val_loss: 1.7103 - val_acc: 0.8372\n",
            "\n",
            "Epoch 00025: val_acc did not improve from 0.86245\n",
            "Epoch 26/30\n",
            "332/332 [==============================] - 60s 180ms/step - loss: 0.0320 - acc: 0.9885 - val_loss: 1.7773 - val_acc: 0.8300\n",
            "\n",
            "Epoch 00026: ReduceLROnPlateau reducing learning rate to 1e-07.\n",
            "\n",
            "Epoch 00026: val_acc did not improve from 0.86245\n",
            "Epoch 27/30\n",
            "332/332 [==============================] - 60s 181ms/step - loss: 0.0288 - acc: 0.9889 - val_loss: 1.5954 - val_acc: 0.8455\n",
            "\n",
            "Epoch 00027: val_acc did not improve from 0.86245\n",
            "Epoch 28/30\n",
            "332/332 [==============================] - 60s 180ms/step - loss: 0.0274 - acc: 0.9915 - val_loss: 1.7263 - val_acc: 0.8318\n",
            "\n",
            "Epoch 00028: val_acc did not improve from 0.86245\n",
            "Epoch 29/30\n",
            "332/332 [==============================] - 60s 181ms/step - loss: 0.0292 - acc: 0.9917 - val_loss: 1.7132 - val_acc: 0.8343\n",
            "\n",
            "Epoch 00029: val_acc did not improve from 0.86245\n",
            "Epoch 30/30\n",
            "332/332 [==============================] - 60s 180ms/step - loss: 0.0345 - acc: 0.9877 - val_loss: 1.6900 - val_acc: 0.8339\n",
            "\n",
            "Epoch 00030: val_acc did not improve from 0.86245\n",
            "done training the model at 59 minutes 45 seconds\n",
            "time for training two models = 59 minutes 45 seconds\n"
          ],
          "name": "stdout"
        }
      ]
    },
    {
      "cell_type": "markdown",
      "metadata": {
        "colab_type": "text",
        "id": "cwsQCx6xgP6a"
      },
      "source": [
        "# Save all the related values into google drive (fine-tuning)"
      ]
    },
    {
      "cell_type": "code",
      "metadata": {
        "colab_type": "code",
        "outputId": "5b977e0c-4f71-4bd7-fcda-2d14833dd5fc",
        "id": "EOMAgfkEgP6p",
        "colab": {
          "base_uri": "https://localhost:8080/",
          "height": 104
        }
      },
      "source": [
        "# save the history to plot the graph later on\n",
        "print(\"starting to save at\", timer.elapsed())\n",
        "equal_str = 'equal' if IS_MALIGNANT_AND_BENIGN_SAME_SIZE else 'unequal'\n",
        "print(\"time_stamp = \", time_stamp)\n",
        "temp_history_fname = 'yo_history_{}_{}_{}_finetune.json'.format(TARGET_WIDTH, \n",
        "                                                                equal_str,\n",
        "                                                                time_stamp)\n",
        "drive_history_finetune_fname = os.path.join(HISTORY_DIR, temp_history_fname)\n",
        "with open(drive_history_finetune_fname, 'w') as f:\n",
        "  json.dump(str(history.history), f)\n",
        "print(\"done saving to {}\".format(drive_history_finetune_fname))\n",
        "\n",
        "# save the model with all its weight and structure\n",
        "local_model_finetune_filename = 'yo_model_{}_{}_{}_finetune.h5'.format(\n",
        "                                          TARGET_WIDTH, equal_str, time_stamp)\n",
        "drive_model_finetune_filename = os.path.join(HISTORY_DIR, \n",
        "                                             local_model_finetune_filename)\n",
        "model.save(local_model_finetune_filename)\n",
        "model.save(drive_model_finetune_filename)\n",
        "print(\"done saving to\", drive_model_finetune_filename)\n",
        "\n",
        "drive_hdf5_finetune_fname = os.path.join(HISTORY_DIR, local_hdf5_finetune_fname)\n",
        "import shutil\n",
        "shutil.copyfile(local_hdf5_finetune_fname, drive_hdf5_finetune_fname)\n",
        "print(\"done saving at\", timer.elapsed())"
      ],
      "execution_count": 0,
      "outputs": [
        {
          "output_type": "stream",
          "text": [
            "starting to save at 59 minutes 45 seconds\n",
            "time_stamp =  20191114_000328\n",
            "done saving to /mntDrive/My Drive/ML Project/final_code/saved/20191114_000328/yo_history_300_equal_20191114_000328_finetune.json\n",
            "done saving to /mntDrive/My Drive/ML Project/final_code/saved/20191114_000328/yo_model_300_equal_20191114_000328_finetune.h5\n",
            "done saving at 59 minutes 47 seconds\n"
          ],
          "name": "stdout"
        }
      ]
    },
    {
      "cell_type": "markdown",
      "metadata": {
        "colab_type": "text",
        "id": "olEqgnkCgP69"
      },
      "source": [
        "  # Loading the model from directory (fine-tuning)"
      ]
    },
    {
      "cell_type": "code",
      "metadata": {
        "colab_type": "code",
        "id": "ixvQ2b7JgP7A",
        "outputId": "b4e484ed-2d85-4759-c146-f2ec165f3001",
        "colab": {
          "base_uri": "https://localhost:8080/",
          "height": 72
        }
      },
      "source": [
        "if LOAD_WEIGHT_FROM_DIRECTORY:\n",
        "  print(\"Loading model from {} \\n\\tat {}\".format(drive_hdf5_finetune_fname, \n",
        "                                             timer.elapsed()))\n",
        "  # drive_hdf5_finetune_fname stores the best results\n",
        "  model.load_weights(drive_hdf5_finetune_fname)"
      ],
      "execution_count": 0,
      "outputs": [
        {
          "output_type": "stream",
          "text": [
            "Loading model from /mntDrive/My Drive/ML Project/final_code/saved/20191114_000328/yo_model_hdf5_300_equal_20191114_000328_finetune.hdf5 \n",
            "\tat 59 minutes 47 seconds\n"
          ],
          "name": "stdout"
        }
      ]
    },
    {
      "cell_type": "markdown",
      "metadata": {
        "colab_type": "text",
        "id": "V6WvZVW-ynTr"
      },
      "source": [
        "# Plotting the graphs"
      ]
    },
    {
      "cell_type": "code",
      "metadata": {
        "colab_type": "code",
        "id": "OESdQWNiynT6",
        "outputId": "fd11a4df-6031-4add-854a-09e446afeffb",
        "colab": {
          "base_uri": "https://localhost:8080/",
          "height": 545
        }
      },
      "source": [
        "# plot the graph base on history\n",
        "acc = history.history['acc']\n",
        "val_acc = history.history['val_acc']\n",
        "loss = history.history['loss']\n",
        "val_loss = history.history['val_loss']\n",
        "\n",
        "epochs = range(1, len(acc) + 1)\n",
        "plt.plot(epochs, acc, 'bo', label='Training acc')\n",
        "plt.plot(epochs, val_acc, 'b', label='Validation acc')\n",
        "plt.title('Training and validation accuracy')\n",
        "plt.legend()\n",
        "\n",
        "plt.figure()\n",
        "\n",
        "plt.plot(epochs, loss, 'bo', label='Training loss')\n",
        "plt.plot(epochs, val_loss, 'b', label='Validation loss')\n",
        "plt.title('Training and validation loss')\n",
        "plt.legend()\n",
        "\n",
        "plt.show()"
      ],
      "execution_count": 0,
      "outputs": [
        {
          "output_type": "display_data",
          "data": {
            "image/png": "[encoded data removed]",
            "text/plain": [
              "<Figure size 432x288 with 1 Axes>"
            ]
          },
          "metadata": {
            "tags": []
          }
        },
        {
          "output_type": "display_data",
          "data": {
            "image/png": "[encoded data removed]",
            "text/plain": [
              "<Figure size 432x288 with 1 Axes>"
            ]
          },
          "metadata": {
            "tags": []
          }
        }
      ]
    },
    {
      "cell_type": "code",
      "metadata": {
        "colab_type": "code",
        "id": "2a31o8R3ynUN",
        "outputId": "13e726a6-63d4-4bcd-bcfa-1050e5a66966",
        "colab": {
          "base_uri": "https://localhost:8080/",
          "height": 34
        }
      },
      "source": [
        "# save the plot's image\n",
        "temp_plot_image_name = 'yo_plot_' + time_stamp + '.png'\n",
        "drive_plot_image_name = os.path.join(HISTORY_DIR, temp_plot_image_name)\n",
        "plt.savefig(drive_plot_image_name)"
      ],
      "execution_count": 0,
      "outputs": [
        {
          "output_type": "display_data",
          "data": {
            "text/plain": [
              "<Figure size 432x288 with 0 Axes>"
            ]
          },
          "metadata": {
            "tags": []
          }
        }
      ]
    },
    {
      "cell_type": "markdown",
      "metadata": {
        "colab_type": "text",
        "id": "_VZ8_fDXynUW"
      },
      "source": [
        "# Predictions"
      ]
    },
    {
      "cell_type": "code",
      "metadata": {
        "colab_type": "code",
        "id": "jVZ_oU4mynUY",
        "outputId": "c5b7418d-0015-4306-dace-a5c1116a5c55",
        "colab": {
          "base_uri": "https://localhost:8080/",
          "height": 52
        }
      },
      "source": [
        "# obtain the predictions here\n",
        "predictions = model.predict(test_x)\n",
        "confusion_matrix(np.argmax(test_y, axis=1), np.argmax(predictions, axis=1))"
      ],
      "execution_count": 0,
      "outputs": [
        {
          "output_type": "execute_result",
          "data": {
            "text/plain": [
              "array([[568, 104],\n",
              "       [ 52, 653]])"
            ]
          },
          "metadata": {
            "tags": []
          },
          "execution_count": 44
        }
      ]
    },
    {
      "cell_type": "markdown",
      "metadata": {
        "colab_type": "text",
        "id": "jEJIymkYynUe"
      },
      "source": [
        "# Evaluating the result"
      ]
    },
    {
      "cell_type": "code",
      "metadata": {
        "colab_type": "code",
        "id": "Wgf9OIiIynUh",
        "outputId": "e697df1a-4760-4cf2-85a4-2bcb5eeee94b",
        "colab": {
          "base_uri": "https://localhost:8080/",
          "height": 173
        }
      },
      "source": [
        "print(classification_report( np.argmax(test_y, axis=1), np.argmax(predictions, axis=1)))"
      ],
      "execution_count": 0,
      "outputs": [
        {
          "output_type": "stream",
          "text": [
            "              precision    recall  f1-score   support\n",
            "\n",
            "           0       0.92      0.85      0.88       672\n",
            "           1       0.86      0.93      0.89       705\n",
            "\n",
            "    accuracy                           0.89      1377\n",
            "   macro avg       0.89      0.89      0.89      1377\n",
            "weighted avg       0.89      0.89      0.89      1377\n",
            "\n"
          ],
          "name": "stdout"
        }
      ]
    },
    {
      "cell_type": "code",
      "metadata": {
        "id": "OG_5KedZhUc4",
        "colab_type": "code",
        "outputId": "8c80805e-71e4-45cc-f02f-68b055324f27",
        "colab": {
          "base_uri": "https://localhost:8080/",
          "height": 52
        }
      },
      "source": [
        "print(\"all done in\", timer.elapsed())\n",
        "print(\"time since the start of the first model training\", model_timer.elapsed())"
      ],
      "execution_count": 0,
      "outputs": [
        {
          "output_type": "stream",
          "text": [
            "all done in 59 minutes 55 seconds\n",
            "time since the start of the first model training 58 minutes 44 seconds\n"
          ],
          "name": "stdout"
        }
      ]
    },
    {
      "cell_type": "code",
      "metadata": {
        "id": "mlaD3pWTIuJD",
        "colab_type": "code",
        "outputId": "b1fd58db-0242-44ce-9f1f-d4091e96e7df",
        "colab": {
          "base_uri": "https://localhost:8080/",
          "height": 52
        }
      },
      "source": [
        "print(\"num_unfreeze_layer =\", num_unfreeze_layer)\n",
        "print(\"num_freeze_layer =\", num_freeze_layer)"
      ],
      "execution_count": 0,
      "outputs": [
        {
          "output_type": "stream",
          "text": [
            "num_unfreeze_layer = 4\n",
            "num_freeze_layer = 15\n"
          ],
          "name": "stdout"
        }
      ]
    }
  ]
}